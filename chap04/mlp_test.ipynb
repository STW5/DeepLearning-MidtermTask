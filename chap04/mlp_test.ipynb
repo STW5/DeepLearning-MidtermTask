{
  "cells": [
    {
      "cell_type": "markdown",
      "metadata": {
        "id": "view-in-github",
        "colab_type": "text"
      },
      "source": [
        "<a href=\"https://colab.research.google.com/github/STW5/deep-learning-midterm-task/blob/main/chap04/mlp_test.ipynb\" target=\"_parent\"><img src=\"https://colab.research.google.com/assets/colab-badge.svg\" alt=\"Open In Colab\"/></a>"
      ]
    },
    {
      "cell_type": "code",
      "source": [
        "from google.colab import drive\n",
        "drive.mount('/content/drive')"
      ],
      "metadata": {
        "id": "gd51wed8m3Hj",
        "colab": {
          "base_uri": "https://localhost:8080/"
        },
        "outputId": "ea522438-cad7-4124-999f-d3f78ae0a4b6"
      },
      "execution_count": null,
      "outputs": [
        {
          "output_type": "stream",
          "name": "stdout",
          "text": [
            "Mounted at /content/drive\n"
          ]
        }
      ]
    },
    {
      "cell_type": "code",
      "execution_count": null,
      "metadata": {
        "colab": {
          "base_uri": "https://localhost:8080/"
        },
        "id": "_7jUR0nCsJoP",
        "outputId": "84de979a-756e-4b4c-c66b-f81f1af38b80"
      },
      "outputs": [
        {
          "output_type": "stream",
          "name": "stdout",
          "text": [
            "Drive already mounted at /content/drive; to attempt to forcibly remount, call drive.mount(\"/content/drive\", force_remount=True).\n",
            "은닉 계층 0개를 갖는 다층 퍼셉트론이 작동되었습니다.\n",
            "Epoch 1: loss=33.875, accuracy=0.557/0.812\n",
            "Epoch 2: loss=8.226, accuracy=0.820/0.814\n",
            "Epoch 3: loss=7.582, accuracy=0.812/0.809\n",
            "Epoch 4: loss=7.475, accuracy=0.808/0.811\n",
            "Epoch 5: loss=7.395, accuracy=0.810/0.809\n",
            "Epoch 6: loss=7.328, accuracy=0.808/0.810\n",
            "Epoch 7: loss=7.269, accuracy=0.808/0.811\n",
            "Epoch 8: loss=7.217, accuracy=0.808/0.812\n",
            "Epoch 9: loss=7.175, accuracy=0.810/0.810\n",
            "Epoch 10: loss=7.135, accuracy=0.809/0.810\n",
            "\n",
            "Final Test: final accuracy = 0.810\n"
          ]
        }
      ],
      "source": [
        "# 첫 번째 파일 실행\n",
        "%run '/content/drive/My Drive/Colab Notebooks/Deep Learning/abalone.ipynb'\n",
        "\n",
        "# 두 번째 파일 실행\n",
        "%run '/content/drive/My Drive/Colab Notebooks/Deep Learning/mlp.ipynb'\n",
        "set_hidden([])\n",
        "# abalone_exec() 함수 실행\n",
        "abalone_exec()\n"
      ]
    },
    {
      "cell_type": "code",
      "execution_count": null,
      "metadata": {
        "id": "j4voVvwDsJoQ",
        "colab": {
          "base_uri": "https://localhost:8080/"
        },
        "outputId": "cd8cc4e1-555d-4065-f375-6653e08c7a80"
      },
      "outputs": [
        {
          "output_type": "stream",
          "name": "stdout",
          "text": [
            "은닉 계층 하나를 갖는 다층 퍼셉트론이 작동되었습니다.\n",
            "Epoch 10: loss=6.849, accuracy=0.806/0.803\n",
            "Epoch 20: loss=6.294, accuracy=0.815/0.812\n",
            "Epoch 30: loss=5.572, accuracy=0.827/0.840\n",
            "Epoch 40: loss=5.105, accuracy=0.835/0.842\n",
            "Epoch 50: loss=4.955, accuracy=0.838/0.837\n",
            "\n",
            "Final Test: final accuracy = 0.837\n"
          ]
        }
      ],
      "source": [
        "set_hidden(4)\n",
        "abalone_exec(epoch_count=50, report=10)"
      ]
    },
    {
      "cell_type": "code",
      "execution_count": null,
      "metadata": {
        "id": "gF-3lkhTsJoQ",
        "colab": {
          "base_uri": "https://localhost:8080/"
        },
        "outputId": "adeba700-ba2f-4620-fb9f-210278dca9f1"
      },
      "outputs": [
        {
          "output_type": "stream",
          "name": "stdout",
          "text": [
            "은닉 계층 하나를 갖는 다층 퍼셉트론이 작동되었습니다.\n",
            "Epoch 10: loss=6.757, accuracy=0.808/0.813\n",
            "Epoch 20: loss=6.255, accuracy=0.817/0.817\n",
            "Epoch 30: loss=5.554, accuracy=0.829/0.819\n",
            "Epoch 40: loss=5.093, accuracy=0.837/0.845\n",
            "Epoch 50: loss=4.948, accuracy=0.840/0.827\n",
            "\n",
            "Final Test: final accuracy = 0.827\n"
          ]
        }
      ],
      "source": [
        "abalone_exec(epoch_count=50, report=10)"
      ]
    },
    {
      "cell_type": "code",
      "execution_count": null,
      "metadata": {
        "id": "llxt4Tg_sJoQ",
        "colab": {
          "base_uri": "https://localhost:8080/"
        },
        "outputId": "d0e699fa-4de9-4662-cdf6-f7151b34d910"
      },
      "outputs": [
        {
          "output_type": "stream",
          "name": "stdout",
          "text": [
            "Drive already mounted at /content/drive; to attempt to forcibly remount, call drive.mount(\"/content/drive\", force_remount=True).\n",
            "Drive already mounted at /content/drive; to attempt to forcibly remount, call drive.mount(\"/content/drive\", force_remount=True).\n",
            "Drive already mounted at /content/drive; to attempt to forcibly remount, call drive.mount(\"/content/drive\", force_remount=True).\n",
            "은닉 계층 하나를 갖는 다층 퍼셉트론이 작동되었습니다.\n",
            "Epoch 10: loss=0.094, accuracy=0.972/0.972\n",
            "Epoch 20: loss=0.091, accuracy=0.973/0.974\n",
            "Epoch 30: loss=0.091, accuracy=0.973/0.974\n",
            "Epoch 40: loss=0.089, accuracy=0.974/0.974\n",
            "Epoch 50: loss=0.089, accuracy=0.974/0.975\n",
            "\n",
            "Final Test: final accuracy = 0.975\n"
          ]
        }
      ],
      "source": [
        "%run '/content/drive/My Drive/Colab Notebooks/Deep Learning/pulsar.ipynb'\n",
        "%run '/content/drive/My Drive/Colab Notebooks/Deep Learning/mlp.ipynb'\n",
        "set_hidden(6)\n",
        "pulsar_exec(epoch_count=50, report=10)"
      ]
    },
    {
      "cell_type": "code",
      "execution_count": null,
      "metadata": {
        "id": "zisHNjvasJoQ",
        "colab": {
          "base_uri": "https://localhost:8080/"
        },
        "outputId": "3975c6e8-7c41-4253-9d03-8e46dcbb93a1"
      },
      "outputs": [
        {
          "output_type": "stream",
          "name": "stdout",
          "text": [
            "은닉 계층 1개를 갖는 다층 퍼셉트론이 작동되었습니다.\n",
            "Epoch 10: loss=0.090, accuracy=0.973/0.969\n",
            "Epoch 20: loss=0.087, accuracy=0.974/0.969\n",
            "Epoch 30: loss=0.085, accuracy=0.975/0.973\n",
            "Epoch 40: loss=0.083, accuracy=0.976/0.972\n",
            "Epoch 50: loss=0.083, accuracy=0.976/0.972\n",
            "\n",
            "Final Test: final accuracy = 0.972\n"
          ]
        }
      ],
      "source": [
        "set_hidden([6])\n",
        "pulsar_exec(epoch_count=50, report=10)"
      ]
    },
    {
      "cell_type": "code",
      "execution_count": null,
      "metadata": {
        "id": "Mu72Tf7hsJoQ",
        "colab": {
          "base_uri": "https://localhost:8080/"
        },
        "outputId": "d27788e8-87a8-41d1-ffde-2ad7f754af13"
      },
      "outputs": [
        {
          "output_type": "stream",
          "name": "stdout",
          "text": [
            "은닉 계층 2개를 갖는 다층 퍼셉트론이 작동되었습니다.\n",
            "Epoch 40: loss=0.090, accuracy=0.973/0.972\n",
            "Epoch 80: loss=0.086, accuracy=0.975/0.974\n",
            "Epoch 120: loss=0.084, accuracy=0.976/0.971\n",
            "Epoch 160: loss=0.081, accuracy=0.976/0.972\n",
            "Epoch 200: loss=0.081, accuracy=0.976/0.973\n",
            "\n",
            "Final Test: final accuracy = 0.973\n"
          ]
        }
      ],
      "source": [
        "set_hidden([12,6])\n",
        "pulsar_exec(epoch_count=200, report=40)"
      ]
    },
    {
      "cell_type": "code",
      "execution_count": null,
      "metadata": {
        "id": "uhWyAqEvsJoQ",
        "colab": {
          "base_uri": "https://localhost:8080/"
        },
        "outputId": "6e2d6874-5705-4df3-eba8-12588531ba45"
      },
      "outputs": [
        {
          "output_type": "stream",
          "name": "stdout",
          "text": [
            "Drive already mounted at /content/drive; to attempt to forcibly remount, call drive.mount(\"/content/drive\", force_remount=True).\n",
            "Drive already mounted at /content/drive; to attempt to forcibly remount, call drive.mount(\"/content/drive\", force_remount=True).\n",
            "은닉 계층 하나를 갖는 다층 퍼셉트론이 작동되었습니다.\n",
            "Epoch 10: loss=1.849, accuracy=0.352/0.325\n",
            "Epoch 20: loss=1.786, accuracy=0.352/0.325\n",
            "Epoch 30: loss=1.747, accuracy=0.352/0.325\n",
            "Epoch 40: loss=1.723, accuracy=0.352/0.325\n",
            "Epoch 50: loss=1.708, accuracy=0.352/0.325\n",
            "\n",
            "Final Test: final accuracy = 0.325\n"
          ]
        }
      ],
      "source": [
        "%run '/content/drive/My Drive/Colab Notebooks/Deep Learning/steel.ipynb'\n",
        "%run '/content/drive/My Drive/Colab Notebooks/Deep Learning/mlp.ipynb'\n",
        "\n",
        "set_hidden(10)\n",
        "steel_exec(epoch_count=50, report=10)"
      ]
    },
    {
      "cell_type": "code",
      "execution_count": null,
      "metadata": {
        "id": "-AHacAeGsJoR",
        "colab": {
          "base_uri": "https://localhost:8080/"
        },
        "outputId": "ae5d4ed4-1524-4892-f65e-28878cb418bf"
      },
      "outputs": [
        {
          "output_type": "stream",
          "name": "stdout",
          "text": [
            "은닉 계층 3개를 갖는 다층 퍼셉트론이 작동되었습니다.\n",
            "Epoch 10: loss=1.855, accuracy=0.346/0.350\n",
            "Epoch 20: loss=1.795, accuracy=0.346/0.350\n",
            "Epoch 30: loss=1.758, accuracy=0.346/0.350\n",
            "Epoch 40: loss=1.735, accuracy=0.346/0.350\n",
            "Epoch 50: loss=1.721, accuracy=0.346/0.350\n",
            "\n",
            "Final Test: final accuracy = 0.350\n"
          ]
        }
      ],
      "source": [
        "set_hidden([12, 6, 4])\n",
        "steel_exec(epoch_count=50, report=10)"
      ]
    },
    {
      "cell_type": "code",
      "execution_count": null,
      "metadata": {
        "id": "5jcL_FcLsJoR",
        "colab": {
          "base_uri": "https://localhost:8080/"
        },
        "outputId": "617d6b36-a272-4d55-a103-23729026a540"
      },
      "outputs": [
        {
          "output_type": "stream",
          "name": "stdout",
          "text": [
            "은닉 계층 3개를 갖는 다층 퍼셉트론이 작동되었습니다.\n",
            "Epoch 10: loss=1.738, accuracy=0.257/0.182\n",
            "Epoch 20: loss=1.618, accuracy=0.315/0.468\n",
            "Epoch 30: loss=1.604, accuracy=0.390/0.389\n",
            "Epoch 40: loss=1.594, accuracy=0.422/0.471\n",
            "Epoch 50: loss=1.584, accuracy=0.444/0.471\n",
            "\n",
            "Final Test: final accuracy = 0.471\n"
          ]
        }
      ],
      "source": [
        "LEARNING_RATE=0.0001\n",
        "hidden_config = [12, 6, 4]\n",
        "steel_exec(epoch_count=50, report=10)"
      ]
    }
  ],
  "metadata": {
    "kernelspec": {
      "display_name": "Python 3",
      "language": "python",
      "name": "python3"
    },
    "language_info": {
      "codemirror_mode": {
        "name": "ipython",
        "version": 3
      },
      "file_extension": ".py",
      "mimetype": "text/x-python",
      "name": "python",
      "nbconvert_exporter": "python",
      "pygments_lexer": "ipython3",
      "version": "3.4.3"
    },
    "colab": {
      "provenance": [],
      "include_colab_link": true
    }
  },
  "nbformat": 4,
  "nbformat_minor": 0
}