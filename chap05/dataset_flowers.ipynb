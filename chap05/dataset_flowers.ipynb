{
  "cells": [
    {
      "cell_type": "markdown",
      "metadata": {
        "id": "view-in-github",
        "colab_type": "text"
      },
      "source": [
        "<a href=\"https://colab.research.google.com/github/STW5/deep-learning-midterm-task/blob/main/dataset_flowers.ipynb\" target=\"_parent\"><img src=\"https://colab.research.google.com/assets/colab-badge.svg\" alt=\"Open In Colab\"/></a>"
      ]
    },
    {
      "cell_type": "code",
      "source": [
        "from google.colab import drive\n",
        "drive.mount('/content/drive')"
      ],
      "metadata": {
        "colab": {
          "base_uri": "https://localhost:8080/"
        },
        "id": "RgGRREF6sKHR",
        "outputId": "30b17b29-3ac8-47b6-dc75-13e7dec75e40"
      },
      "execution_count": null,
      "outputs": [
        {
          "output_type": "stream",
          "name": "stdout",
          "text": [
            "Drive already mounted at /content/drive; to attempt to forcibly remount, call drive.mount(\"/content/drive\", force_remount=True).\n"
          ]
        }
      ]
    },
    {
      "cell_type": "code",
      "execution_count": null,
      "metadata": {
        "colab": {
          "base_uri": "https://localhost:8080/"
        },
        "id": "q0Ijcls8r-0M",
        "outputId": "cd49f978-4344-479d-dd22-7dc45040f11a"
      },
      "outputs": [
        {
          "output_type": "stream",
          "name": "stdout",
          "text": [
            "Drive already mounted at /content/drive; to attempt to forcibly remount, call drive.mount(\"/content/drive\", force_remount=True).\n"
          ]
        }
      ],
      "source": [
        "%run '/content/drive/My Drive/Colab Notebooks/Deep Learning2/dataset.ipynb'"
      ]
    },
    {
      "cell_type": "code",
      "execution_count": null,
      "metadata": {
        "id": "ZWg1wtbAr-0N"
      },
      "outputs": [],
      "source": [
        "class FlowersDataset(Dataset):\n",
        "    pass"
      ]
    },
    {
      "cell_type": "code",
      "execution_count": null,
      "metadata": {
        "id": "2OAqE5mWr-0N"
      },
      "outputs": [],
      "source": [
        "def flowers_init(self, resolution=[100,100], input_shape=[-1]):\n",
        "    super(FlowersDataset, self).__init__('flowers', 'select')\n",
        "\n",
        "    path = '/content/drive/My Drive/Colab Notebooks/Deep Learning2/flowers'\n",
        "    self.target_names = list_dir(path)\n",
        "\n",
        "    images = []\n",
        "    idxs = []\n",
        "\n",
        "    for dx, dname in enumerate(self.target_names):\n",
        "        subpath = path + '/' + dname\n",
        "        filenames = list_dir(subpath)\n",
        "        for fname in filenames:\n",
        "            if fname[-4:] != '.jpg':\n",
        "                continue\n",
        "            imagepath = os.path.join(subpath, fname)\n",
        "            pixels = load_image_pixels(imagepath, resolution, input_shape)\n",
        "            images.append(pixels)\n",
        "            idxs.append(dx)\n",
        "\n",
        "    self.image_shape = resolution + [3]\n",
        "\n",
        "    xs = np.asarray(images, np.float32)\n",
        "    ys = onehot(idxs, len(self.target_names))\n",
        "\n",
        "    self.shuffle_data(xs, ys, 0.8)\n",
        "\n",
        "FlowersDataset.__init__ = flowers_init"
      ]
    },
    {
      "cell_type": "code",
      "execution_count": null,
      "metadata": {
        "id": "8woVQ45sr-0N"
      },
      "outputs": [],
      "source": [
        "def flowers_visualize(self, xs, estimates, answers):\n",
        "    draw_images_horz(xs, self.image_shape)\n",
        "    show_select_results(estimates, answers, self.target_names)\n",
        "\n",
        "FlowersDataset.visualize = flowers_visualize"
      ]
    }
  ],
  "metadata": {
    "kernelspec": {
      "display_name": "Python 3",
      "language": "python",
      "name": "python3"
    },
    "language_info": {
      "codemirror_mode": {
        "name": "ipython",
        "version": 3
      },
      "file_extension": ".py",
      "mimetype": "text/x-python",
      "name": "python",
      "nbconvert_exporter": "python",
      "pygments_lexer": "ipython3",
      "version": "3.4.3"
    },
    "colab": {
      "provenance": [],
      "include_colab_link": true
    }
  },
  "nbformat": 4,
  "nbformat_minor": 0
}
